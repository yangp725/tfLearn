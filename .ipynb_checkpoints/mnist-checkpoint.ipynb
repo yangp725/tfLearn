{
 "cells": [
  {
   "cell_type": "markdown",
   "metadata": {},
   "source": [
    "https://github.com/tensorflow/tensorflow/blob/master/tensorflow/examples/tutorials/mnist/mnist.py  \n",
    "Builds the MNIST network.  \n",
    "1. inference() - Builds the model as far as is required for running the network forward to make predictions.\n",
    "2. loss() - Adds to the inference model the layers required to generate loss.\n",
    "3. training() - Adds to the loss model the Ops required to generate and apply gradients."
   ]
  },
  {
   "cell_type": "code",
   "execution_count": 1,
   "metadata": {
    "collapsed": true
   },
   "outputs": [],
   "source": [
    "from __future__ import absolute_import\n",
    "from __future__ import division\n",
    "from __future__ import print_function\n",
    "\n",
    "import math\n",
    "import tensorflow as tf"
   ]
  },
  {
   "cell_type": "code",
   "execution_count": 2,
   "metadata": {
    "collapsed": true
   },
   "outputs": [],
   "source": [
    "NUM_CLASSES = 10\n",
    "IMAGE_SIZE = 28\n",
    "IMAGE_PIXELS = IMAGE_SIZE * IMAGE_SIZE"
   ]
  },
  {
   "cell_type": "code",
   "execution_count": 3,
   "metadata": {
    "collapsed": true
   },
   "outputs": [],
   "source": [
    "def ｉｎference(images, hidden1_units, hidden2_units):\n",
    "    \"\"\"\n",
    "    hiden1_units: size of first hidden layer\n",
    "    \"\"\"\n",
    "    # hidden 1\n",
    "    with tf.name_scop('hidden1'):\n",
    "        weights = tf.Variable(tf.truncated_normal([IMAGE_PIXELS, hidden1_units],\n",
    "                              stddev=1.0 / math.sqrt(float([IMAGE_PIXELS]))))\n",
    "        biases = tf.Variable(tf.zero([hidden1_units]))\n",
    "        hidden1 = tf.nn.relu(tf.matmul(images, weights) + biases)\n",
    "\n",
    "    #hidden 2\n",
    "    with tf.name_scop('hidden2'):\n",
    "        weights = tf.Variable(tf.truncated_normal([hidden1_units, hidden2_units],\n",
    "                              stddev=1.0 / math.sqrt(float([hidden1_units]))))\n",
    "        biases = tf.Variable(tf.zero([hidden2_units]))\n",
    "        hidden2 = tf.nn.relu(tf.matmul(hidden1, weights) + biases)\n",
    "\n",
    "    # Linear\n",
    "    with tf.name_scop('softmax_linear'):\n",
    "        weights = tf.Variable(tf.truncated_normal([hidden2_units, NUM_CLASSES],\n",
    "                              stddev=1.0 / math.sqrt(float([hidden2_units]))))\n",
    "        biases = tf.Variable(tf.zero([NUM_CLASSES]))\n",
    "        logits = tf.matmul(hidden2, weights) + biases\n",
    "    \n",
    "    return logits　#logits.shape　[batchsize, num_classes]"
   ]
  },
  {
   "cell_type": "code",
   "execution_count": 5,
   "metadata": {
    "collapsed": false
   },
   "outputs": [],
   "source": [
    "def loss(logits, labels):\n",
    "    \"\"\"Calculates the loss from the logits and the labels.\n",
    "      Args:\n",
    "          logits: Logits tensor, float - [batch_size, NUM_CLASSES].\n",
    "          labels: Labels tensor, int32 - [batch_size].\n",
    "      Returns:\n",
    "          loss: Loss tensor of type float.\n",
    "      \"\"\"\n",
    "    labels = tf.to_int64(labels)\n",
    "    cross_entropy = tf.nn.sparse_softmax_cross_entropy_with_logits(logits, labels)\n",
    "    #ｔｆ.nn.sparse_softmax_cross_entropy_with_logits可以自动将ｌａｂｅｌｓ转成１－ｈｏｔ编码,然后计算\n",
    "    return tf.reduce_mean(cross_entropy) # renturn loss"
   ]
  },
  {
   "cell_type": "code",
   "execution_count": 9,
   "metadata": {
    "collapsed": true
   },
   "outputs": [],
   "source": [
    "def training(loss, learning_rate):\n",
    "    \"\"\"\n",
    "    return train operation\n",
    "    \"\"\"\n",
    "    # 写ｓｕｍｍａｒｙ\n",
    "    tf.summary.scalar('loss', loss)\n",
    "    optimizer = tf.train.GradientDescentOptimizer(learning_rate)\n",
    "    global_step = tf.Variable(0, trainable=False) # a variable to track the global step\n",
    "    train_op = optimizer.minimize(loss, global_step = global_step) # global_step is a counter\n",
    "    return train_op"
   ]
  },
  {
   "cell_type": "code",
   "execution_count": 14,
   "metadata": {
    "collapsed": false
   },
   "outputs": [],
   "source": [
    "def evaluation(logits, labels):\n",
    "    # It returns a bool tensor with shape [batch_size]\n",
    "    correct = tf.nn.in_top_k(logits, labels, k = 1)\n",
    "    return tf.reduce_sum(tf.cast(correct, tf.int32))"
   ]
  },
  {
   "cell_type": "markdown",
   "metadata": {},
   "source": [
    "https://github.com/tensorflow/tensorflow/blob/master/tensorflow/examples/tutorials/mnist/fully_connected_feed.py  \n",
    "Trains and Evaluates the MNIST network using a feed dictionary."
   ]
  },
  {
   "cell_type": "code",
   "execution_count": 15,
   "metadata": {
    "collapsed": true
   },
   "outputs": [],
   "source": [
    "import argparse\n",
    "import os.path\n",
    "import sys\n",
    "import time\n",
    "\n",
    "from six.moves import xrange  # pylint: disable=redefined-builtin\n",
    "import tensorflow as tf\n",
    "\n",
    "from tensorflow.examples.tutorials.mnist import input_data\n",
    "\n",
    "# Basic model parameters as external flags.\n",
    "FLAGS = None"
   ]
  },
  {
   "cell_type": "code",
   "execution_count": 19,
   "metadata": {
    "collapsed": true
   },
   "outputs": [],
   "source": [
    "def placeholder_inputs(batch_size):\n",
    "    images_placeholder = tf.placeholder(tf.float32, shape=(batch_size, IMAGE_PIXELS))\n",
    "    labels_placeholder = tf.placeholder(tf.int32, shape=(batch_size))\n",
    "    return images_placeholder, labels_placeholder"
   ]
  },
  {
   "cell_type": "code",
   "execution_count": 20,
   "metadata": {
    "collapsed": true
   },
   "outputs": [],
   "source": [
    "def fill_feed_dict(data_set, images_pl, labels_pl):\n",
    "    images_feed, labels_feed = data_set.next_batch(FLAGS.batch_size, FLAGS.fake_data)\n",
    "    feed_dict = {images_pl: images_feed, labels_pl: labels_feed}\n",
    "    return feed_dict"
   ]
  },
  {
   "cell_type": "code",
   "execution_count": 21,
   "metadata": {
    "collapsed": false
   },
   "outputs": [],
   "source": [
    "def do_eval(sess, eval_correct, image_placeholder, label_placeholder, data_set):\n",
    "    true_count = 0 # counts #correct predictions\n",
    "    steps_per_epoch = data_set.num_examples // FLAGS.batch_size\n",
    "    num_examples = steps_per_epoch * FLAGS.batch_size\n",
    "    \n",
    "    for step in xrange(steps_per_epoch):\n",
    "        feed_dict = fill_feed_dict(data_set, image_placeholder, label_placeholder)\n",
    "        true_count += sess.run(eval_correct, feed_dict = feed_dict)\n",
    "        precision = float(true_count) / num_examples\n",
    "        print('  Num examples: %d  Num correct: %d  Precision @ 1: %0.04f' %\n",
    "              (num_examples, true_count, precision))"
   ]
  },
  {
   "cell_type": "code",
   "execution_count": 22,
   "metadata": {
    "collapsed": true
   },
   "outputs": [],
   "source": [
    "def run_training():\n",
    "    data_sets = input_data.read_data_sets(FLAGS.input_data_dir, FLAGS.fake_data)\n",
    "    \n",
    "    # tell tf that the model will be built into the default graph\n",
    "    with tf.Graph().as_default():\n",
    "        images_placeholder, labels_placeholder = placeholder_inputs(FLAGS.batch_size())\n",
    "        \n",
    "        logits = inference(images_placeholder, FLAGS.hidden1, FLAGS.hidden2)\n",
    "        loss = loss(logits, labels_placeholder)\n",
    "        train_op = training(loss, FLAGS.learning_rate)\n",
    "        eval_correct = evaluation(logits, labels_placeholder)\n",
    "        \n",
    "        # Build the summary Tensor based on the TF collection of Summaries.\n",
    "        summary = tf.summary.merge_all()\n",
    "        \n",
    "        init = tf.global_variables_initializer()\n",
    "        \n",
    "        # create a saver for writing training checkpoints\n",
    "        saver = tf.train.Saver()\n",
    "        \n",
    "        sess = tf.Session()\n",
    "        \n",
    "        # Instantiate a SummaryWriter to output summaries and the Graph.\n",
    "        summary_writer = tf.summary.FileWriter(FLAGS.log_dir, sess.graph)\n",
    "        \n",
    "        sess.run(init)\n",
    "        \n",
    "        for step in xrange(FLAGS.max_steps):\n",
    "            start_time = time.time()\n",
    "            feed_dict = fill_feed_dict(data_sets.train, images_placeholder, labels_placeholder)\n",
    "            \n",
    "            _, loss_value = sess.run([train_op, loss], feed_dict = feed_dict)\n",
    "            duration = time.time() - start_time\n",
    "            \n",
    "            if step % 100 == 0:\n",
    "                print('Step %d: loss = %.2f (%.3f sec)' % (step, loss_value, duration))\n",
    "                summary_str = sess.run(summary, feed_dict=feed_dict)\n",
    "                summary_writer.add_summary(summary_str, step)\n",
    "                summary_writer.flush()\n"
   ]
  },
  {
   "cell_type": "code",
   "execution_count": null,
   "metadata": {
    "collapsed": false
   },
   "outputs": [],
   "source": []
  },
  {
   "cell_type": "code",
   "execution_count": null,
   "metadata": {
    "collapsed": true
   },
   "outputs": [],
   "source": []
  }
 ],
 "metadata": {
  "anaconda-cloud": {},
  "kernelspec": {
   "display_name": "Python [default]",
   "language": "python",
   "name": "python3"
  },
  "language_info": {
   "codemirror_mode": {
    "name": "ipython",
    "version": 3
   },
   "file_extension": ".py",
   "mimetype": "text/x-python",
   "name": "python",
   "nbconvert_exporter": "python",
   "pygments_lexer": "ipython3",
   "version": "3.5.2"
  }
 },
 "nbformat": 4,
 "nbformat_minor": 1
}
