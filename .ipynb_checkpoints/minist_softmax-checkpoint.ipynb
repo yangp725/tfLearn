{
 "cells": [
  {
   "cell_type": "markdown",
   "metadata": {},
   "source": [
    "https://www.tensorflow.org/tutorials/mnist/beginners/\n",
    "\n",
    "download and read in the data automatically"
   ]
  },
  {
   "cell_type": "code",
   "execution_count": 2,
   "metadata": {
    "collapsed": false
   },
   "outputs": [
    {
     "name": "stdout",
     "output_type": "stream",
     "text": [
      "Extracting MNIST_data/train-images-idx3-ubyte.gz\n",
      "Extracting MNIST_data/train-labels-idx1-ubyte.gz\n",
      "Extracting MNIST_data/t10k-images-idx3-ubyte.gz\n",
      "Extracting MNIST_data/t10k-labels-idx1-ubyte.gz\n"
     ]
    }
   ],
   "source": [
    "from tensorflow.examples.tutorials.mnist import input_data\n",
    "mnist = input_data.read_data_sets(\"MNIST_data/\", one_hot=True)"
   ]
  },
  {
   "cell_type": "markdown",
   "metadata": {},
   "source": [
    "MNIST被分成三份，mnist.train 55000,mnist.test 10000,mnist.validation 5000\n",
    "然后每一部分又包含images和labels，mnist.train.images,mnist.train.labels"
   ]
  },
  {
   "cell_type": "code",
   "execution_count": 21,
   "metadata": {
    "collapsed": false
   },
   "outputs": [
    {
     "name": "stdout",
     "output_type": "stream",
     "text": [
      "<class 'numpy.ndarray'>\n",
      "(55000, 784)\n",
      "max : 1.000000 ; min: 0.000000 \n",
      "[ 0.  0.  0.  0.  0.  0.  0.  1.  0.  0.]\n"
     ]
    }
   ],
   "source": [
    "print(type(mnist.train.images))\n",
    "print(mnist.train.images.shape)\n",
    "# 55000-by-784, 每个图像是28-by-28,flatten之后是784\n",
    "# mnist.train.images 就是一个tensor，tensor中元素（像素）值的取值范围是[0,1]\n",
    "print(\"max : %f ; min: %f \" % (mnist.train.images.max(),mnist.train.images.min()))\n",
    "\n",
    "# labels 使用one-hot可以选择one-hot编码\n",
    "print(mnist.train.labels[0])\n",
    "#print(mnist.train.images[0])"
   ]
  },
  {
   "cell_type": "markdown",
   "metadata": {},
   "source": [
    "numpy等是用c,fortran等实现，用于高效的数学和矩阵运算。使用tensorflow，仍然无法避免要使用python语言进行一些操作，这些操作一般会有较大的开销（overhead），尤其是GPU运算或者分布式计算的时候，数据传输花费时间。\n",
    "tensorflow做了繁重的工作来避免计算过程中python操作带来的开销。并不是运行一个独立于python的操作，而是让我们描述一个可以交互操作的图。（一些其它的机器学习库也是这样做的，theano、torch）\n",
    "\n",
    "python的作用是构建外部的图，决定图的那一部分应该运行。"
   ]
  },
  {
   "cell_type": "code",
   "execution_count": 19,
   "metadata": {
    "collapsed": true
   },
   "outputs": [],
   "source": [
    "import tensorflow as tf"
   ]
  },
  {
   "cell_type": "markdown",
   "metadata": {},
   "source": [
    "构造图"
   ]
  },
  {
   "cell_type": "code",
   "execution_count": 30,
   "metadata": {
    "collapsed": false
   },
   "outputs": [],
   "source": [
    "#使用符号操作来描述图的交互\n",
    "x = tf.placeholder(tf.float32, [None, 784])\n",
    "#x 不是一个具体的值，而是 placeholder ,当run的时候才输入一个值。\n",
    "\n",
    "#对于参数，我们需要weights和biases等，不用像上边x那样作为input，tf提供了Variable来处理这些参数\n",
    "#Variable是可修改的tensor，存在于图的操作中，可以使用、计算、修改\n",
    "W = tf.Variable(tf.zeros([784, 10]))\n",
    "b = tf.Variable(tf.zeros([10])) # create and initialized it\n",
    "\n",
    "y = tf.nn.softmax(tf.matmul(x, W) + b)\n",
    "# y Tensor(\"Softmax_1:0\", shape=(?, 10), dtype=float32)"
   ]
  },
  {
   "cell_type": "markdown",
   "metadata": {},
   "source": [
    "定义loss"
   ]
  },
  {
   "cell_type": "code",
   "execution_count": 34,
   "metadata": {
    "collapsed": false
   },
   "outputs": [],
   "source": [
    "# 计算交叉熵\n",
    "y_ = tf.placeholder(tf.float32, [None, 10])\n",
    "# y_用于输入正确的类别标签\n",
    "\n",
    "# y是[N, 10] y_也是[N, 10], elmentwise取log，然后elementwise计算乘积\n",
    "# 这也是为什么将y用one-hot编码的原因，不希望被类别数值影响计算\n",
    "#cross_entropy = tf.reduce_mean(-tf.reduce_sum(y_ * tf.log(y), reduction_indices = [1]))\n",
    "#reduction_indices = [1]指定求和运算是在第二个维度计算的，将第二个维度（也就是横向）上的元素求和\n",
    "\n",
    "#tutorial说上述那样求softmax的cross entropy会有计算不稳定的问题，不太了解\n",
    "softmax_cross_entropy = tf.nn.softmax_cross_entropy_with_logits(labels = y_, logits = y)"
   ]
  },
  {
   "cell_type": "code",
   "execution_count": 35,
   "metadata": {
    "collapsed": true
   },
   "outputs": [],
   "source": [
    "learning_rate = 0.5\n",
    "# 使用Gradient descent算法来minimize交叉熵，tf还提供很多其他的optimizer\n",
    "train_step = tf.train.GradientDescentOptimizer(learning_rate).minimize(softmax_cross_entropy)"
   ]
  },
  {
   "cell_type": "markdown",
   "metadata": {},
   "source": [
    "tf会在图中加入新的操作，实现[backpropagation](http://colah.github.io/posts/2015-08-Backprop/)和gradient descent"
   ]
  },
  {
   "cell_type": "markdown",
   "metadata": {},
   "source": [
    "run"
   ]
  },
  {
   "cell_type": "code",
   "execution_count": 48,
   "metadata": {
    "collapsed": false
   },
   "outputs": [],
   "source": [
    "# 在运行之前还要create一个operation，初始化我们创建的所有Variables\n",
    "# 这里只是定义，并没有运行\n",
    "init = tf.global_variables_initializer()\n",
    "\n",
    "#然后我们可以在一个Session中launch我们的模型\n",
    "sess = tf.Session()\n",
    "sess.run(init)\n",
    "\n",
    "training_steps = 10000\n",
    "batch_size = 100\n",
    "\n",
    "for i in range(training_steps):\n",
    "    batch_xs, batch_ys = mnist.train.next_batch(batch_size)\n",
    "    sess.run(train_step, feed_dict = {x: batch_xs, y_: batch_ys})\n",
    "#运行前边定义init操作和train_step操作"
   ]
  },
  {
   "cell_type": "markdown",
   "metadata": {},
   "source": [
    "Evaluate"
   ]
  },
  {
   "cell_type": "code",
   "execution_count": 49,
   "metadata": {
    "collapsed": false
   },
   "outputs": [
    {
     "name": "stdout",
     "output_type": "stream",
     "text": [
      "0.6663\n"
     ]
    }
   ],
   "source": [
    "correct_predictions = tf.equal(tf.argmax(y, 1), tf.argmax(y_, 1))\n",
    "accuracy = tf.reduce_mean(tf.cast(correct_predictions, tf.float32)) # accuracy也是一个operation\n",
    "\n",
    "#然后来查看准确率\n",
    "print(sess.run(accuracy, feed_dict={x:mnist.test.images, y_: mnist.test.labels}))"
   ]
  },
  {
   "cell_type": "code",
   "execution_count": null,
   "metadata": {
    "collapsed": true
   },
   "outputs": [],
   "source": []
  }
 ],
 "metadata": {
  "anaconda-cloud": {},
  "kernelspec": {
   "display_name": "Python [default]",
   "language": "python",
   "name": "python3"
  },
  "language_info": {
   "codemirror_mode": {
    "name": "ipython",
    "version": 3
   },
   "file_extension": ".py",
   "mimetype": "text/x-python",
   "name": "python",
   "nbconvert_exporter": "python",
   "pygments_lexer": "ipython3",
   "version": "3.5.2"
  }
 },
 "nbformat": 4,
 "nbformat_minor": 1
}
