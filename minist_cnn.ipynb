{
 "metadata": {
  "anaconda-cloud": {},
  "kernelspec": {
   "display_name": "Python [default]",
   "language": "python",
   "name": "python3"
  },
  "language_info": {
   "codemirror_mode": {
    "name": "ipython",
    "version": 3
   },
   "file_extension": ".py",
   "mimetype": "text/x-python",
   "name": "python",
   "nbconvert_exporter": "python",
   "pygments_lexer": "ipython3",
   "version": "3.5.2"
  },
  "name": "",
  "signature": "sha256:0b54694b2a5a964d8acd9ca95117790b61dc40a1430b02d9eb5fdb4f306ca829"
 },
 "nbformat": 3,
 "nbformat_minor": 0,
 "worksheets": [
  {
   "cells": [
    {
     "cell_type": "markdown",
     "metadata": {},
     "source": [
      "https://www.tensorflow.org/tutorials/mnist/pros/\n",
      "\n",
      "TF\u4f9d\u8d56\u9ad8\u6548\u7684C++\u540e\u7aef\uff08backend\uff09\u6765\u8fdb\u884c\u8ba1\u7b97\u3002\u548cbackend\u7684\u8fde\u63a5\u88ab\u79f0\u4f5csession\u3002TF\u7684\u4f7f\u7528\u901a\u5e38\u662f\u5148\u521b\u5efa\u56fe\uff0c\u7136\u540e\u5728\u4e00\u4e2asession\u4e2d\u542f\u52a8\u5b83\u3002\n",
      "\u4f7f\u7528tf.InteractiveSession()\u53ef\u4ee5\u4ea4\u4e92\u5730\u521b\u5efaoperation\u8fd0\u884c\u56fe\uff0c\u4e5f\u5c31\u662f\u8bf4\u4e0d\u7528\u5b8c\u5168\u6784\u5efa\u51fa\u5b8c\u6574\u7684computation graph\u5c31\u53ef\u4ee5\u5f00\u59cb\u4e00\u4e2asession\uff0c\u542f\u52a8\u56fe\u3002"
     ]
    },
    {
     "cell_type": "code",
     "collapsed": false,
     "input": [
      "from tensorflow.examples.tutorials.mnist import input_data\n",
      "mnist = input_data.read_data_sets(\"MNIST_data/\", one_hot=True)"
     ],
     "language": "python",
     "metadata": {},
     "outputs": [
      {
       "output_type": "stream",
       "stream": "stdout",
       "text": [
        "Successfully downloaded train-images-idx3-ubyte.gz 9912422 bytes.\n",
        "Extracting MNIST_data/train-images-idx3-ubyte.gz\n",
        "Successfully downloaded"
       ]
      },
      {
       "output_type": "stream",
       "stream": "stdout",
       "text": [
        " train-labels-idx1-ubyte.gz 28881 bytes.\n",
        "Extracting MNIST_data/train-labels-idx1-ubyte.gz\n",
        "Successfully downloaded"
       ]
      },
      {
       "output_type": "stream",
       "stream": "stdout",
       "text": [
        " t10k-images-idx3-ubyte.gz 1648877 bytes.\n",
        "Extracting MNIST_data/t10k-images-idx3-ubyte.gz\n",
        "Successfully downloaded"
       ]
      },
      {
       "output_type": "stream",
       "stream": "stdout",
       "text": [
        " t10k-labels-idx1-ubyte.gz 4542 bytes.\n",
        "Extracting MNIST_data/t10k-labels-idx1-ubyte.gz\n"
       ]
      }
     ],
     "prompt_number": 1
    },
    {
     "cell_type": "code",
     "collapsed": true,
     "input": [
      "import tensorflow as tf\n",
      "sess = tf.InteractiveSession()"
     ],
     "language": "python",
     "metadata": {},
     "outputs": [],
     "prompt_number": 2
    },
    {
     "cell_type": "code",
     "collapsed": true,
     "input": [
      "def weight_variable(shape):\n",
      "    initial = tf.truncated_normal(shape, stddev=0.1)\n",
      "    return tf.Variable(initial)\n",
      "    # tf.Variable\u662f\u56fe\u4e2d\u7684\u4e00\u4e2atensor\uff0c\u53ef\u4ee5\u7406\u89e3\u4e3a\u56fe\u4e2d\u7684\u4e00\u79cd\u53c2\u6570\u7c7b\u578b\n",
      "\n",
      "def bias_variable(shape):\n",
      "    initial = tf.constant(0.1, shape=shape)\n",
      "    return tf.Variable(initial)"
     ],
     "language": "python",
     "metadata": {},
     "outputs": [],
     "prompt_number": 3
    },
    {
     "cell_type": "markdown",
     "metadata": {},
     "source": [
      "2D convolution  \n",
      "tf.nn.conv2d(input, filter, strides, padding, use_cudnn_on_gpu=None, data_format=None, name=None)  \n",
      "strides: 1-D of size 4. The stride of the sliding window for each dimension of input.\n",
      "\n",
      "inpur tensor\u7684shape [batch, in_height, in_width, in_channels]  \n",
      "filter tensor\u7684shape [filter_height, filter_width, in_channels, out_channels]  \n",
      "\n",
      "conv2d\u7684\u5904\u7406\u8fc7\u7a0b   \n",
      "1.\u5c06filter flatten\u62102-D\u77e9\u9635\uff0c shape [filter_height \\* filter_width \\* in_channels, output_channels]  \n",
      "2.\u4ece\u8f93\u5165tensor\u4e2d\u63d0\u53d6image patches\uff0c\u6784\u6210\u865a\u62dftensor\uff0c shape [batch, out_height, out_width, filter_height \\* filter_width \\* in_channels]  \n",
      "3.\u5bf9\u4e8e\u6bcf\u4e00\u4e2apatch\uff0c \u53f3\u4e58filter matrix\u548cimage patch vector  \n",
      "\n",
      "In NHWC format \uff08default\uff09\uff1a  \n",
      "$output[b, i, j, k] = sum_{di, dj, q} input[b, strides[1] * i + di, strides[2] * j + dj, q] *                   filter[di, dj, q, k]$  \n",
      "\u5fc5\u987b\u6709strides[0]=strides[3]=1\uff0c strides = [1, stride, stride, 1],\u901a\u5e38\u6c34\u5e73\u548c\u5782\u76f4\u7684stride\u4e00\u6837"
     ]
    },
    {
     "cell_type": "code",
     "collapsed": true,
     "input": [
      "#Abstract the conlution and pooing operations into  functions\n",
      "def conv2d(x, W):\n",
      "    return tf.nn.conv2d(x, W, strides=[1, 1, 1, 1], padding='SAME')\n",
      "\n",
      "def max_pool_2x2(x):\n",
      "    return tf.nn.max_pool(x, ksize=[1,2,2,1], strides=[1, 2, 2, 1], padding='SAME')"
     ],
     "language": "python",
     "metadata": {},
     "outputs": [],
     "prompt_number": 4
    },
    {
     "cell_type": "code",
     "collapsed": true,
     "input": [
      "x = tf.placeholder(dtype=tf.float32, shape=[None, 784])\n",
      "y_ = tf.placeholder(dtype=tf.float32, shape=[None, 10])"
     ],
     "language": "python",
     "metadata": {},
     "outputs": [],
     "prompt_number": 5
    },
    {
     "cell_type": "code",
     "collapsed": false,
     "input": [
      "# layer 1\n",
      "W_conv1 = weight_variable([5, 5, 1, 32]) # [path_height, patch_width, in_channels, out_channels]\n",
      "b_conv1 = bias_variable([32])\n",
      "\n",
      "# \u6211\u4eec\u9700\u8981\u5bf9\u5c06x reshape\u62104D tensor\u3002\u4e2d\u95f4\u4e24\u7ef4\u5bf9\u5e94\u56fe\u7247height\u548cwidth\uff0c\u6700\u540e\u4e00\u7ef4\u5bf9\u5e94color channels\n",
      "x_image = tf.reshape(x, [-1, 28, 28, 1])\n",
      "h_conv1 = tf.nn.relu(conv2d(x_image, W_conv1) + b_conv1)\n",
      "h_pool1 = max_pool_2x2(h_conv1)\n",
      "\n",
      "# layer 2\n",
      "W_conv2 = weight_variable([5, 5, 32, 64])\n",
      "b_conv2 = bias_variable([64])\n",
      "\n",
      "h_conv2 = tf.nn.relu(conv2d(h_pool1, W_conv2) + b_conv2)\n",
      "h_pool2 = max_pool_2x2(h_conv2)\n",
      "\n",
      "# fc layer\n",
      "W_fc3 = weight_variable([7*7*64, 1024])\n",
      "b_fc3 = bias_variable([1024])\n",
      "\n",
      "h_flat3 = tf.reshape(h_pool2, [-1, 7*7*64])\n",
      "h_fc3 = tf.nn.relu(tf.matmul(h_flat3, W_fc3) + b_fc3)"
     ],
     "language": "python",
     "metadata": {},
     "outputs": [],
     "prompt_number": 6
    },
    {
     "cell_type": "code",
     "collapsed": true,
     "input": [
      "# \u52a0\u5165dropout\u79d1\u6280\uff0c\u9632\u6b62\u8fc7\u62df\u5408,\u4e00\u822c\u52a0\u5728\u5168\u8fde\u63a5\u5c42\u3002 \u5377\u79ef\u5c42\u7528\u4e8e\u63d0\u53d6\u7279\u5f81\n",
      "keep_prob = tf.placeholder(tf.float32) # \u8bad\u7ec3\u65f6\u4f7f\u7528dropout\uff0c\u6d4b\u8bd5\u65f6\u5173\u95ed\n",
      "# tf.nn.dropout\u64cd\u4f5c\u53ef\u4ee5\u81ea\u52a8\u5730\u7f29\u653e\u795e\u7ecf\u5143\u7684\u8f93\u51fa\uff0c\u8fbe\u5230mask\u7684\u76ee\u7684\n",
      "h_fc3_dropout = tf.nn.dropout(h_fc3, keep_prob)"
     ],
     "language": "python",
     "metadata": {},
     "outputs": [],
     "prompt_number": 7
    },
    {
     "cell_type": "code",
     "collapsed": true,
     "input": [
      "W_fc4 = weight_variable([1024, 10])\n",
      "b_fc4 = bias_variable([10])\n",
      "\n",
      "y_conv = tf.matmul(h_fc3_dropout, W_fc4) + b_fc4"
     ],
     "language": "python",
     "metadata": {},
     "outputs": [],
     "prompt_number": 8
    },
    {
     "cell_type": "code",
     "collapsed": false,
     "input": [
      "learning_rate = 1e-4\n",
      "training_steps =  2001\n",
      "batch_size = 64\n",
      "\n",
      "cross_entropy = tf.reduce_mean(tf.nn.softmax_cross_entropy_with_logits(y_conv, y_))\n",
      "train_step = tf.train.AdamOptimizer(learning_rate).minimize(cross_entropy)\n",
      "\n",
      "correct_prediction = tf.equal(tf.argmax(y_conv,1), tf.argmax(y_, axis=1)) # \u5f97\u5230bool\u5411\u91cf\n",
      "accuracy = tf.reduce_mean(tf.cast(correct_prediction, tf.float32))\n",
      "\n",
      "sess.run(tf.global_variables_initializer())\n",
      "for i in range(training_steps):\n",
      "    batch = mnist.train.next_batch(batch_size)\n",
      "    if i%100 == 0:\n",
      "        # eval \u6267\u884c\u4e00\u4e2aoperation\n",
      "        train_accuracy = accuracy.eval(feed_dict = {x: batch[0], y_:batch[1], keep_prob: 1.0})\n",
      "        print(\"step %d, training accuracy %g\" % (i, train_accuracy))\n",
      "        \n",
      "        valid_accuracy = accuracy.eval(feed_dict = {x: mnist.validation.images, y_:mnist.validation.labels, keep_prob: 1.0})\n",
      "        print(\"validation accuracy %g\" % valid_accuracy)\n",
      "\n",
      "    train_step.run(feed_dict = {x: batch[0], y_: batch[1], keep_prob: 0.5})\n",
      "\n",
      "print(\"test accuracy %g\" % accuracy.eval(feed_dict = {x: mnist.test.images, y_: mnist.test.labels, keep_prob: 1.0}))"
     ],
     "language": "python",
     "metadata": {},
     "outputs": [
      {
       "output_type": "stream",
       "stream": "stdout",
       "text": [
        "step 0, training accuracy 0.1875\n",
        "validation accuracy 0.1078"
       ]
      },
      {
       "output_type": "stream",
       "stream": "stdout",
       "text": [
        "\n",
        "step 100, training accuracy 0.828125"
       ]
      },
      {
       "output_type": "stream",
       "stream": "stdout",
       "text": [
        "\n",
        "validation accuracy 0.8578"
       ]
      },
      {
       "output_type": "stream",
       "stream": "stdout",
       "text": [
        "\n",
        "step 200, training accuracy 0.859375"
       ]
      },
      {
       "output_type": "stream",
       "stream": "stdout",
       "text": [
        "\n",
        "validation accuracy 0.905"
       ]
      },
      {
       "output_type": "stream",
       "stream": "stdout",
       "text": [
        "\n",
        "step 300, training accuracy 0.9375"
       ]
      },
      {
       "output_type": "stream",
       "stream": "stdout",
       "text": [
        "\n",
        "validation accuracy 0.9288"
       ]
      },
      {
       "output_type": "stream",
       "stream": "stdout",
       "text": [
        "\n",
        "step 400, training accuracy 0.90625"
       ]
      },
      {
       "output_type": "stream",
       "stream": "stdout",
       "text": [
        "\n",
        "validation accuracy 0.9376"
       ]
      },
      {
       "output_type": "stream",
       "stream": "stdout",
       "text": [
        "\n",
        "step 500, training accuracy 0.953125"
       ]
      },
      {
       "output_type": "stream",
       "stream": "stdout",
       "text": [
        "\n",
        "validation accuracy 0.9462"
       ]
      },
      {
       "output_type": "stream",
       "stream": "stdout",
       "text": [
        "\n",
        "step 600, training accuracy 0.96875"
       ]
      },
      {
       "output_type": "stream",
       "stream": "stdout",
       "text": [
        "\n",
        "validation accuracy 0.9528"
       ]
      },
      {
       "output_type": "stream",
       "stream": "stdout",
       "text": [
        "\n",
        "step 700, training accuracy 0.953125"
       ]
      },
      {
       "output_type": "stream",
       "stream": "stdout",
       "text": [
        "\n",
        "validation accuracy 0.9594"
       ]
      },
      {
       "output_type": "stream",
       "stream": "stdout",
       "text": [
        "\n",
        "step 800, training accuracy 0.984375"
       ]
      },
      {
       "output_type": "stream",
       "stream": "stdout",
       "text": [
        "\n",
        "validation accuracy 0.9626"
       ]
      },
      {
       "output_type": "stream",
       "stream": "stdout",
       "text": [
        "\n",
        "step 900, training accuracy 0.953125"
       ]
      },
      {
       "output_type": "stream",
       "stream": "stdout",
       "text": [
        "\n",
        "validation accuracy 0.9648"
       ]
      },
      {
       "output_type": "stream",
       "stream": "stdout",
       "text": [
        "\n",
        "step 1000, training accuracy 0.96875"
       ]
      },
      {
       "output_type": "stream",
       "stream": "stdout",
       "text": [
        "\n",
        "validation accuracy 0.9688"
       ]
      },
      {
       "output_type": "stream",
       "stream": "stdout",
       "text": [
        "\n",
        "step 1100, training accuracy 0.953125"
       ]
      },
      {
       "output_type": "stream",
       "stream": "stdout",
       "text": [
        "\n",
        "validation accuracy 0.97"
       ]
      },
      {
       "output_type": "stream",
       "stream": "stdout",
       "text": [
        "\n",
        "step 1200, training accuracy 0.984375"
       ]
      },
      {
       "output_type": "stream",
       "stream": "stdout",
       "text": [
        "\n",
        "validation accuracy 0.97"
       ]
      },
      {
       "output_type": "stream",
       "stream": "stdout",
       "text": [
        "\n",
        "step 1300, training accuracy 0.9375"
       ]
      },
      {
       "output_type": "stream",
       "stream": "stdout",
       "text": [
        "\n",
        "validation accuracy 0.9722"
       ]
      },
      {
       "output_type": "stream",
       "stream": "stdout",
       "text": [
        "\n",
        "step 1400, training accuracy 0.953125"
       ]
      },
      {
       "output_type": "stream",
       "stream": "stdout",
       "text": [
        "\n",
        "validation accuracy 0.9742"
       ]
      },
      {
       "output_type": "stream",
       "stream": "stdout",
       "text": [
        "\n",
        "step 1500, training accuracy 0.96875"
       ]
      },
      {
       "output_type": "stream",
       "stream": "stdout",
       "text": [
        "\n",
        "validation accuracy 0.977"
       ]
      },
      {
       "output_type": "stream",
       "stream": "stdout",
       "text": [
        "\n",
        "step 1600, training accuracy 0.984375"
       ]
      },
      {
       "output_type": "stream",
       "stream": "stdout",
       "text": [
        "\n",
        "validation accuracy 0.9758"
       ]
      },
      {
       "output_type": "stream",
       "stream": "stdout",
       "text": [
        "\n",
        "step 1700, training accuracy 0.984375"
       ]
      },
      {
       "output_type": "stream",
       "stream": "stdout",
       "text": [
        "\n",
        "validation accuracy 0.9756"
       ]
      },
      {
       "output_type": "stream",
       "stream": "stdout",
       "text": [
        "\n",
        "step 1800, training accuracy 0.984375"
       ]
      },
      {
       "output_type": "stream",
       "stream": "stdout",
       "text": [
        "\n",
        "validation accuracy 0.9788"
       ]
      },
      {
       "output_type": "stream",
       "stream": "stdout",
       "text": [
        "\n",
        "step 1900, training accuracy 0.984375"
       ]
      },
      {
       "output_type": "stream",
       "stream": "stdout",
       "text": [
        "\n",
        "validation accuracy 0.978"
       ]
      },
      {
       "output_type": "stream",
       "stream": "stdout",
       "text": [
        "\n",
        "step 2000, training accuracy 1"
       ]
      },
      {
       "output_type": "stream",
       "stream": "stdout",
       "text": [
        "\n",
        "validation accuracy 0.9794"
       ]
      },
      {
       "output_type": "stream",
       "stream": "stdout",
       "text": [
        "\n",
        "test accuracy 0.9783"
       ]
      },
      {
       "output_type": "stream",
       "stream": "stdout",
       "text": [
        "\n"
       ]
      }
     ],
     "prompt_number": 20
    },
    {
     "cell_type": "code",
     "collapsed": false,
     "input": [],
     "language": "python",
     "metadata": {},
     "outputs": []
    }
   ],
   "metadata": {}
  }
 ]
}